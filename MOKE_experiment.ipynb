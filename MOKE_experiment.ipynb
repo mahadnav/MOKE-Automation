{
 "cells": [
  {
   "cell_type": "markdown",
   "metadata": {},
   "source": [
    "##### Welcome to the Magneto Optic Kerr Effect (MOKE) Automation! We will be using the KEPCO Bipolar Operational Power Supply (BOP) along with the SRS Lock-in Amplifier (LIA) to measure the desired outputs. For more information on the MOKE experiment, please refer to the readme file attached to the repository."
   ]
  },
  {
   "cell_type": "markdown",
   "metadata": {},
   "source": [
    "### Importing Libraries"
   ]
  },
  {
   "cell_type": "code",
   "execution_count": 1,
   "metadata": {},
   "outputs": [],
   "source": [
    "import pyvisa\n",
    "import numpy as np\n",
    "import pandas as pd\n",
    "import matplotlib.pyplot as plt\n",
    "plt.style.use('seaborn-v0_8')"
   ]
  },
  {
   "cell_type": "markdown",
   "metadata": {},
   "source": [
    "### Checking the Connected Devices"
   ]
  },
  {
   "cell_type": "code",
   "execution_count": 2,
   "metadata": {},
   "outputs": [],
   "source": [
    "rm = pyvisa.ResourceManager()\n",
    "rm.list_resources()"
   ]
  },
  {
   "cell_type": "markdown",
   "metadata": {},
   "source": [
    "### Initializing the MOKE Experiment Script"
   ]
  },
  {
   "cell_type": "code",
   "execution_count": 4,
   "metadata": {},
   "outputs": [
    {
     "name": "stdout",
     "output_type": "stream",
     "text": [
      "Welcome to the MOKE Experiment!\n",
      "Here are some default experiment parameters.\n",
      "\n",
      "PS Output Current (A) :\t 0.0\n",
      "PS Output Voltage (V) :\t 20.0003\n",
      "PS Output Mode (Current/Voltage) :\t Constant Current\n",
      "LIA Time Constant :\t 0.3\n",
      "LIA Sensivity :\t 0.0002\n",
      "Sensivity Delay (s) :\t 3\n",
      "Read Repetitions :\t 1\n",
      "Read Repetition Delay :\t 0\n",
      "Read Delay :\t 0.02\n",
      "From 0 Delay (s) :\t 4\n",
      "Log File :\t c:\\Users\\physlab\\Desktop\\MOKE Automation\\Experiment_Logs\\MOKE_log_2023-12-28_16-19-36.log\n"
     ]
    }
   ],
   "source": [
    "from MOKE import Experiment\n",
    "\n",
    "E = Experiment()"
   ]
  },
  {
   "cell_type": "markdown",
   "metadata": {},
   "source": [
    "### Setting Parameters and Performing the Measurement"
   ]
  },
  {
   "cell_type": "code",
   "execution_count": 6,
   "metadata": {},
   "outputs": [],
   "source": [
    "%matplotlib qt\n",
    "\n",
    "# Set your field value here\n",
    "field_max = 100\n",
    "num_points = 100\n",
    "\n",
    "field = np.linspace(-field_max, field_max, num_points)\n",
    "\n",
    "# Set directory and filename here\n",
    "save_dir = r\"C:\\Users\\physlab\\Desktop\\MOKE Automation\\Data\"\n",
    "sample = 'NiFe_SPT4(50nm)'\n",
    "filename = fr'{sample}_field_sweep_{field.min()}-{field.max()}_Oe'\n",
    "\n",
    "E.sweep_field(field, save_dir, filename, read_reps=3, read_delay=0.002, sen=0.005)"
   ]
  }
 ],
 "metadata": {
  "kernelspec": {
   "display_name": "visa-env",
   "language": "python",
   "name": "python3"
  },
  "language_info": {
   "codemirror_mode": {
    "name": "ipython",
    "version": 3
   },
   "file_extension": ".py",
   "mimetype": "text/x-python",
   "name": "python",
   "nbconvert_exporter": "python",
   "pygments_lexer": "ipython3",
   "version": "3.12.1"
  },
  "orig_nbformat": 4
 },
 "nbformat": 4,
 "nbformat_minor": 2
}
